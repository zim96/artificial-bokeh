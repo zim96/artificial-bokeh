{
  "cells": [
    {
      "metadata": {
        "colab_type": "text",
        "id": "NF3wwkO-vNy5"
      },
      "cell_type": "markdown",
      "source": "# Artificial *Bokeh* using Stereo Vision\n\n## Load Images and Ground Truths\n\nI have linked some images from the Middlebury 2003 dataset. Go to http://vision.middlebury.edu/stereo/data/ to view more images. It should be rectified image as this code does not do any rectification."
    },
    {
      "metadata": {
        "trusted": true
      },
      "cell_type": "code",
      "source": "## Get images from the internet using wget\n!wget http://vision.middlebury.edu/stereo/data/scenes2003/newdata/cones/im2.png -O left_img.png\n!wget http://vision.middlebury.edu/stereo/data/scenes2003/newdata/cones/im6.png -O right_img.png",
      "execution_count": null,
      "outputs": []
    },
    {
      "metadata": {
        "colab": {
          "base_uri": "https://localhost:8080/",
          "height": 875
        },
        "colab_type": "code",
        "id": "ssSjf3m1iMvW",
        "outputId": "9a896033-dc70-4482-b492-3cac4aee00ef",
        "trusted": true
      },
      "cell_type": "code",
      "source": "import cv2 as cv\nimport numpy as np\nimport matplotlib.pyplot as plt\nimport ipywidgets\nimport sys\n\n## Define names of images\nleft_img_name = \"left_img.png\"\nright_img_name = \"right_img.png\"\n\n## Read images\nleft_img = cv.imread(left_img_name)\nright_img = cv.imread(right_img_name)\n\nplt.figure(figsize=(16, 12))\nplt.subplot(1, 2, 1, title='Left Image')\nplt.imshow(cv.cvtColor(left_img, cv.COLOR_BGR2RGB))\nplt.subplot(1, 2, 2, title='Right Image')\nplt.imshow(cv.cvtColor(right_img, cv.COLOR_BGR2RGB))\n\nplt.show()\n\n# Convert to Grayscale for disparity calculations\nleft_img_gray = cv.cvtColor(left_img, cv.COLOR_BGR2GRAY)\nright_img_gray = cv.cvtColor(right_img, cv.COLOR_BGR2GRAY)",
      "execution_count": null,
      "outputs": []
    },
    {
      "metadata": {
        "colab_type": "text",
        "id": "42A4P4ZxvNzU"
      },
      "cell_type": "markdown",
      "source": "## Mask Creation Function\n\nCreate another image where pixels with disparity value between x and y would be 0 (Black) else it would be 255 (White). This will then serve as a guide for the smoothing filter. Only 'White' pixels would be smoothed."
    },
    {
      "metadata": {
        "colab": {},
        "colab_type": "code",
        "id": "nOZ26ZwvvNzW",
        "trusted": true
      },
      "cell_type": "code",
      "source": "def createMask(dmap, fRange):    \n    x, y = fRange\n    \n    if x >= 255:\n        print('X value must be less than 255, It should be at most the maximum value in the Disparity Range.')\n        return\n    \n    temp = np.copy(dmap)\n    temp[(temp < x) | (temp > y)] = 255\n    temp[(temp >= x) & (temp <= y)] = 0\n    \n    return temp",
      "execution_count": null,
      "outputs": []
    },
    {
      "metadata": {
        "colab_type": "text",
        "id": "JnkkrlQ-vNzF"
      },
      "cell_type": "markdown",
      "source": "## Stereo Block Matching (Plane Sweeping)\n\nThis is a simple method where a window of a certain size is drawn over 1 image and that will be the template. The tempate is then searched for in the 2nd image.\n\nSince, we are working with rectified images, we can leverage the epipolar lines to lower the computation cost of searching for the template. Instead of searching in 2-Dimensions, we will only be searching in 1-Dimension.\n\n### Sum of Squared Differences\n\nThe use of Euclidean Distance to measure the dissimilarity between the windows/template."
    },
    {
      "metadata": {
        "colab": {},
        "colab_type": "code",
        "id": "2ZefBua2mVBC",
        "trusted": true
      },
      "cell_type": "code",
      "source": "def stereoBM_ssd(im_l, im_r, b_size, disparityRange):\n    \"\"\" Find disparity image using Sum of Squared Differences. \"\"\"\n    \n    print('Starting Block Matching SSD')\n    \n    m, n = im_r.shape\n\n    # Array to hold depth planes\n    dmaps = np.zeros((m, n))\n    \n    # Block matching with nested for-loops\n    for r in range(m):\n        minr = max(0, r-b_size)\n        maxr = min(m-1, r+b_size)\n        for c in range(n):\n            minc = max(0, c-b_size)\n            maxc = min(n-1, c+b_size)\n            \n            # Calculate Disparity Range\n            mind = disparityRange[0]\n            maxd = min(disparityRange[1], n-maxc)\n            \n            # Construct template from the right image\n            template = im_r[minr:maxr, minc:maxc]\n\n            # Search template in the left image - Calculate SSD\n            numBlocks = maxd - mind\n            scores = cv.matchTemplate(im_l[minr:maxr, minc+mind:minc+maxd], template, method=cv.TM_SQDIFF_NORMED)\n            \n            # Find the index of the best matched region\n            # It is the disparity\n            matched_idx = np.argmin(scores)\n            dmaps[r, c] = matched_idx + mind\n        \n        sys.stdout.write('Row %d/%d \\r' % (r+1, m))\n        sys.stdout.flush()\n        \n    return dmaps",
      "execution_count": null,
      "outputs": []
    },
    {
      "metadata": {
        "colab_type": "text",
        "id": "0bHUyxMOvNzO"
      },
      "cell_type": "markdown",
      "source": "### Normalised Cross Correlation\n\nThe use Normalised Cross Correlation to measure the dissimilarity between template/window."
    },
    {
      "metadata": {
        "colab": {},
        "colab_type": "code",
        "id": "o9z_geFOvNzP",
        "trusted": true
      },
      "cell_type": "code",
      "source": "def stereoBM_ncc(im_l, im_r, b_size, disparityRange):\n    \"\"\" Find disparity image using Normalised Cross Correlation. \"\"\"\n    \n    print('Starting Block Matching NCC')\n    \n    m, n = im_r.shape\n\n    # Array to hold depth planes\n    dmaps = np.zeros((m, n))\n    \n    # Block matching with nested for-loops\n    for r in range(m):\n        minr = max(0, r-b_size)\n        maxr = min(m-1, r+b_size)\n        for c in range(n):\n            minc = max(0, c-b_size)\n            maxc = min(n-1, c+b_size)\n            \n            # Calculate Disparity Range\n            mind = disparityRange[0]\n            maxd = min(disparityRange[1], n-maxc)\n            \n            # Construct template from the right image\n            template = im_r[minr:maxr, minc:maxc]\n\n            # Search template in the left image - Calculate NCC\n            numBlocks = maxd - mind\n            scores = cv.matchTemplate(im_l[minr:maxr, minc+mind:minc+maxd], template, method=cv.TM_CCORR_NORMED)\n                \n            # Find the index of the best matched region\n            # It is the disparity\n            matched_idx = np.argmax(scores)\n            dmaps[r, c] = matched_idx + mind\n        \n        sys.stdout.write('Row %d/%d \\r' % (r+1, m))\n        sys.stdout.flush()\n        \n    return dmaps",
      "execution_count": null,
      "outputs": []
    },
    {
      "metadata": {
        "colab_type": "text",
        "id": "QnM-_bAuvNza"
      },
      "cell_type": "markdown",
      "source": "## Demonstration of Block Matching (Plane Sweeping)\n\nRun the code on the test images provided. Perform masking and use ipython widgets to provide sliders for interactive changes of the selected depth. User will be able to view the 'bokeh' effect being applied to the regions outside the selected depth range."
    },
    {
      "metadata": {
        "colab": {
          "base_uri": "https://localhost:8080/",
          "height": 35
        },
        "colab_type": "code",
        "id": "RFsZBFZoPqTx",
        "outputId": "c7e6b0eb-7279-4fab-e9c4-7661ceb912eb",
        "trusted": true
      },
      "cell_type": "code",
      "source": "dmap_ssd = stereoBM_ssd(left_img_gray, right_img_gray, 4, [0, 64])",
      "execution_count": null,
      "outputs": []
    },
    {
      "metadata": {
        "colab": {
          "base_uri": "https://localhost:8080/",
          "height": 401
        },
        "colab_type": "code",
        "id": "3Hsh27gevNzj",
        "outputId": "8c11b2aa-71a6-4082-8cf7-90d5954fd77c",
        "trusted": true
      },
      "cell_type": "code",
      "source": "plt.figure(figsize = (8, 6))\nplt.title('Depth Map Block Size of 8 with SSD (Jet)')\nplt.imshow(dmap_ssd, cmap='jet')\nplt.show()",
      "execution_count": null,
      "outputs": []
    },
    {
      "metadata": {
        "colab": {},
        "colab_type": "code",
        "id": "Kn2ejL3GvNzp",
        "trusted": true
      },
      "cell_type": "code",
      "source": "def masking(x, y):\n    dmap_ssd_mask = createMask(dmap_ssd, (x, y))\n    \n    smooth_img = np.copy(right_img)\n    temp = smooth_img[dmap_ssd_mask == 0]\n    smooth_img = cv.GaussianBlur(smooth_img, (7, 7), 3)\n    smooth_img[dmap_ssd_mask == 0] = temp\n    \n    plt.figure(figsize = (16, 12))\n    plt.subplot(1, 2, 1, title='Mask')\n    plt.imshow(dmap_ssd_mask, cmap='gray')\n    plt.subplot(1, 2, 2, title='Blurred Image')\n    plt.imshow(smooth_img)\n    plt.show()\n    \nipywidgets.interact_manual(masking, x=(0, np.max(dmap_ssd), 1), y=(0, np.max(dmap_ssd), 1))",
      "execution_count": null,
      "outputs": []
    },
    {
      "metadata": {
        "colab": {},
        "colab_type": "code",
        "id": "WKgaHw1LvNzv",
        "trusted": true
      },
      "cell_type": "code",
      "source": "dmap_ncc = stereoBM_ncc(left_img_gray, right_img_gray, 4, [0, 64])",
      "execution_count": null,
      "outputs": []
    },
    {
      "metadata": {
        "trusted": true
      },
      "cell_type": "code",
      "source": "plt.figure(figsize = (8, 6))\nplt.title('Depth Map Block Size of 8 with NCC (Jet)')\nplt.imshow(dmap_ncc, cmap='jet')\nplt.show()",
      "execution_count": null,
      "outputs": []
    },
    {
      "metadata": {
        "colab": {},
        "colab_type": "code",
        "id": "c0RGCZ4-vNz4",
        "trusted": true
      },
      "cell_type": "code",
      "source": "def masking(x, y):\n    dmap_ncc_mask = createMask(dmap_ncc, (x, y))\n    \n    smooth_img = np.copy(right_img)\n    temp = smooth_img[dmap_ncc_mask == 0]\n    smooth_img = cv.GaussianBlur(smooth_img, (7, 7), 3)\n    smooth_img[dmap_ncc_mask == 0] = temp\n    \n    plt.figure(figsize = (16, 12))\n    plt.subplot(1, 2, 1, title='Mask')\n    plt.imshow(dmap_ncc_mask, cmap='gray')\n    plt.subplot(1, 2, 2, title='Blurred Image')\n    plt.imshow(smooth_img)\n    plt.show()\n    \nipywidgets.interact_manual(masking, x=(0, np.max(dmap_ncc), 1), y=(0, np.max(dmap_ncc), 1))",
      "execution_count": null,
      "outputs": []
    },
    {
      "metadata": {
        "colab_type": "text",
        "id": "0WQ5lyiPvNz9"
      },
      "cell_type": "markdown",
      "source": "## Dynamic Programming (Unconstrained)"
    },
    {
      "metadata": {
        "colab": {},
        "colab_type": "code",
        "id": "w69hpafCvNz_",
        "trusted": true
      },
      "cell_type": "code",
      "source": "def stereoDP(im_l, im_r):\n    \"\"\" Find disparity image using Dynamic Programming. \"\"\"\n    \n    print('Starting Dynamic Programming')\n    \n    m, n = im_r.shape\n    dmap_l = np.zeros((m, n))\n    dmap_r = np.zeros((m, n))\n    \n    occlusionCost = 20\n    \n    # Build Disparity Space Image\n    for r in range(m):\n        \n        dsi = np.zeros((n, n))\n        dpath = np.zeros((n, n))\n        \n        for i in range(0, n):\n            dsi[i][0] = i*occlusionCost\n            dsi[0][i] = i*occlusionCost\n        \n        for c in range(n):\n            left = im_l[r, c]\n            for d in range(0, n):\n                right = im_r[r, d]\n                cost = np.abs(int(left)-int(right))\n                \n                # Find path\n                min1 = dsi[c-1, d-1]+cost\n                min2 = dsi[c-1][d]+occlusionCost\n                min3 = dsi[c][d-1]+occlusionCost\n                cmin = np.min((min1, min2, min3))\n                dsi[c, d] = cmin\n                \n                if min1 == cmin:\n                    dpath[c, d] = 1\n                elif min2 == cmin:\n                    dpath[c, d] = 2\n                elif min3 == cmin:\n                    dpath[c, d] = 3\n        \n        # Explore Path and Set disparity value\n        i = n-1\n        j = n-1\n        while i!=0 and j!=0:\n            if dpath[i, j] == 1:\n                dmap_l[r, i] = np.abs(i-j)\n                dmap_r[r, j] = np.abs(i-j)                \n                i = i-1\n                j = j-1\n            elif dpath[i, j] == 2:\n                i = i-1\n            elif dpath[i, j] == 3:\n                j = j-1\n            else:\n                print('i =', i, ', j =', j)\n                return dsi, dpath\n        \n        sys.stdout.write('Row %d/%d \\r' % (r+1, m))\n        sys.stdout.flush()\n        \n    return dmap_l, dmap_r",
      "execution_count": null,
      "outputs": []
    },
    {
      "metadata": {
        "colab_type": "text",
        "id": "5t6eGxATvN0G"
      },
      "cell_type": "markdown",
      "source": "## Dynamic Programming Demonstration"
    },
    {
      "metadata": {
        "colab": {},
        "colab_type": "code",
        "id": "v-EwQYlkvN0H",
        "trusted": true
      },
      "cell_type": "code",
      "source": "dmap_dp = stereoDP(left_img_gray, right_img_gray)",
      "execution_count": null,
      "outputs": []
    },
    {
      "metadata": {
        "colab": {},
        "colab_type": "code",
        "id": "NZMjwlC7vN0L",
        "trusted": true
      },
      "cell_type": "code",
      "source": "plt.figure(figsize = (16, 16))\nplt.title('Left Depth Map DSI with Dynamic Programming (Jet)')\nplt.imshow(dmap_dp[0], cmap='jet')\nplt.show()",
      "execution_count": null,
      "outputs": []
    },
    {
      "metadata": {
        "colab": {},
        "colab_type": "code",
        "id": "5pGNEgmhvN0P",
        "trusted": true
      },
      "cell_type": "code",
      "source": "def masking(x, y):\n    dmap_dp_mask = createMask(dmap_dp[0], (x, y))\n    \n    smooth_img = np.copy(left_img)\n    temp = smooth_img[dmap_dp_mask == 0]\n    smooth_img = cv.GaussianBlur(smooth_img, (7, 7), 3)\n    smooth_img[dmap_dp_mask == 0] = temp\n    \n    plt.figure(figsize = (20, 20))\n    plt.subplot(1, 2, 1, title='Mask')\n    plt.imshow(dmap_dp_mask, cmap='gray')\n    plt.subplot(1, 2, 2, title='Blurred Image')\n    plt.imshow(smooth_img)\n    plt.show()\n    \nipywidgets.interact(masking, x=(0, np.max(dmap_dp[0]), 1), y=(0, np.max(dmap_dp[0]), 1))",
      "execution_count": null,
      "outputs": []
    },
    {
      "metadata": {
        "colab": {},
        "colab_type": "code",
        "id": "gaOB41B_vN0U",
        "trusted": true
      },
      "cell_type": "code",
      "source": "plt.figure(figsize = (16, 16))\nplt.subplot(1, 2, 1, title='Right Depth Map DSI with Dynamic Programming (Jet)')\nplt.imshow(dmap_dp[1], cmap='jet')\nplt.subplot(1, 2, 2, title='Ground Truth - Right')\nplt.imshow(right_ground_truth)\nplt.show()",
      "execution_count": null,
      "outputs": []
    },
    {
      "metadata": {
        "colab": {},
        "colab_type": "code",
        "id": "sRYPheLfvN0a",
        "trusted": true
      },
      "cell_type": "code",
      "source": "def masking(x, y):\n    dmap_dp_mask = createMask(dmap_dp[1], (x, y))\n    \n    smooth_img = np.copy(right_img)\n    temp = smooth_img[dmap_dp_mask == 0]\n    smooth_img = cv.GaussianBlur(smooth_img, (7, 7), 3)\n    smooth_img[dmap_dp_mask == 0] = temp\n    \n    plt.figure(figsize = (20, 20))\n    plt.subplot(1, 2, 1, title='Mask')\n    plt.imshow(dmap_dp_mask, cmap='gray')\n    plt.subplot(1, 2, 2, title='Blurred Image')\n    plt.imshow(smooth_img)\n    plt.show()\n    \nipywidgets.interact(masking, x=(0, np.max(dmap_dp[1]), 1), y=(0, np.max(dmap_dp[1]), 1))",
      "execution_count": null,
      "outputs": []
    }
  ],
  "metadata": {
    "colab": {
      "collapsed_sections": [],
      "name": "stereo-matching.ipynb",
      "provenance": [],
      "version": "0.3.2"
    },
    "kernelspec": {
      "name": "python3",
      "display_name": "Python 3",
      "language": "python"
    },
    "language_info": {
      "mimetype": "text/x-python",
      "nbconvert_exporter": "python",
      "name": "python",
      "pygments_lexer": "ipython3",
      "version": "3.5.4",
      "file_extension": ".py",
      "codemirror_mode": {
        "version": 3,
        "name": "ipython"
      }
    }
  },
  "nbformat": 4,
  "nbformat_minor": 1
}