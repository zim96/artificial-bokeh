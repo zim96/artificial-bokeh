{
 "cells": [
  {
   "cell_type": "markdown",
   "metadata": {
    "colab_type": "text",
    "id": "NF3wwkO-vNy5"
   },
   "source": [
    "# Artificial *Bokeh* using Stereo Vision\n",
    "\n",
    "## Load Images and Ground Truths\n",
    "\n",
    "I have linked some images from the Middlebury 2003 dataset. Go to http://vision.middlebury.edu/stereo/data/ to view more datasets."
   ]
  },
  {
   "cell_type": "code",
   "execution_count": 5,
   "metadata": {},
   "outputs": [
    {
     "name": "stderr",
     "output_type": "stream",
     "text": [
      "'get' is not recognized as an internal or external command,\n",
      "operable program or batch file.\n",
      "'get' is not recognized as an internal or external command,\n",
      "operable program or batch file.\n"
     ]
    }
   ],
   "source": [
    "## Get images from the internet using wget\n",
    "!wget http://vision.middlebury.edu/stereo/data/scenes2003/newdata/cones/im2.png -o left_img\n",
    "!wget http://vision.middlebury.edu/stereo/data/scenes2003/newdata/cones/im6.png -o right_img"
   ]
  },
  {
   "cell_type": "code",
   "execution_count": 1,
   "metadata": {
    "colab": {
     "base_uri": "https://localhost:8080/",
     "height": 875
    },
    "colab_type": "code",
    "id": "ssSjf3m1iMvW",
    "outputId": "9a896033-dc70-4482-b492-3cac4aee00ef"
   },
   "outputs": [
    {
     "ename": "error",
     "evalue": "OpenCV(3.4.1) C:\\Miniconda3\\conda-bld\\opencv-suite_1533128839831\\work\\modules\\imgproc\\src\\color.cpp:11115: error: (-215) scn == 3 || scn == 4 in function cv::cvtColor\n",
     "output_type": "error",
     "traceback": [
      "\u001b[1;31m---------------------------------------------------------------------------\u001b[0m",
      "\u001b[1;31merror\u001b[0m                                     Traceback (most recent call last)",
      "\u001b[1;32m<ipython-input-1-b9151a353088>\u001b[0m in \u001b[0;36m<module>\u001b[1;34m\u001b[0m\n\u001b[0;32m     19\u001b[0m \u001b[0mplt\u001b[0m\u001b[1;33m.\u001b[0m\u001b[0mfigure\u001b[0m\u001b[1;33m(\u001b[0m\u001b[0mfigsize\u001b[0m\u001b[1;33m=\u001b[0m\u001b[1;33m(\u001b[0m\u001b[1;36m16\u001b[0m\u001b[1;33m,\u001b[0m \u001b[1;36m16\u001b[0m\u001b[1;33m)\u001b[0m\u001b[1;33m)\u001b[0m\u001b[1;33m\u001b[0m\u001b[1;33m\u001b[0m\u001b[0m\n\u001b[0;32m     20\u001b[0m \u001b[0mplt\u001b[0m\u001b[1;33m.\u001b[0m\u001b[0msubplot\u001b[0m\u001b[1;33m(\u001b[0m\u001b[1;36m2\u001b[0m\u001b[1;33m,\u001b[0m \u001b[1;36m2\u001b[0m\u001b[1;33m,\u001b[0m \u001b[1;36m1\u001b[0m\u001b[1;33m,\u001b[0m \u001b[0mtitle\u001b[0m\u001b[1;33m=\u001b[0m\u001b[1;34m'Left Image'\u001b[0m\u001b[1;33m)\u001b[0m\u001b[1;33m\u001b[0m\u001b[1;33m\u001b[0m\u001b[0m\n\u001b[1;32m---> 21\u001b[1;33m \u001b[0mplt\u001b[0m\u001b[1;33m.\u001b[0m\u001b[0mimshow\u001b[0m\u001b[1;33m(\u001b[0m\u001b[0mcv\u001b[0m\u001b[1;33m.\u001b[0m\u001b[0mcvtColor\u001b[0m\u001b[1;33m(\u001b[0m\u001b[0mleft_img\u001b[0m\u001b[1;33m,\u001b[0m \u001b[0mcv\u001b[0m\u001b[1;33m.\u001b[0m\u001b[0mCOLOR_BGR2RGB\u001b[0m\u001b[1;33m)\u001b[0m\u001b[1;33m)\u001b[0m\u001b[1;33m\u001b[0m\u001b[1;33m\u001b[0m\u001b[0m\n\u001b[0m\u001b[0;32m     22\u001b[0m \u001b[0mplt\u001b[0m\u001b[1;33m.\u001b[0m\u001b[0msubplot\u001b[0m\u001b[1;33m(\u001b[0m\u001b[1;36m2\u001b[0m\u001b[1;33m,\u001b[0m \u001b[1;36m2\u001b[0m\u001b[1;33m,\u001b[0m \u001b[1;36m2\u001b[0m\u001b[1;33m,\u001b[0m \u001b[0mtitle\u001b[0m\u001b[1;33m=\u001b[0m\u001b[1;34m'Right Image'\u001b[0m\u001b[1;33m)\u001b[0m\u001b[1;33m\u001b[0m\u001b[1;33m\u001b[0m\u001b[0m\n\u001b[0;32m     23\u001b[0m \u001b[0mplt\u001b[0m\u001b[1;33m.\u001b[0m\u001b[0mimshow\u001b[0m\u001b[1;33m(\u001b[0m\u001b[0mcv\u001b[0m\u001b[1;33m.\u001b[0m\u001b[0mcvtColor\u001b[0m\u001b[1;33m(\u001b[0m\u001b[0mright_img\u001b[0m\u001b[1;33m,\u001b[0m \u001b[0mcv\u001b[0m\u001b[1;33m.\u001b[0m\u001b[0mCOLOR_BGR2RGB\u001b[0m\u001b[1;33m)\u001b[0m\u001b[1;33m)\u001b[0m\u001b[1;33m\u001b[0m\u001b[1;33m\u001b[0m\u001b[0m\n",
      "\u001b[1;31merror\u001b[0m: OpenCV(3.4.1) C:\\Miniconda3\\conda-bld\\opencv-suite_1533128839831\\work\\modules\\imgproc\\src\\color.cpp:11115: error: (-215) scn == 3 || scn == 4 in function cv::cvtColor\n"
     ]
    }
   ],
   "source": [
    "import cv2 as cv\n",
    "import numpy as np\n",
    "import matplotlib.pyplot as plt\n",
    "import ipywidgets\n",
    "import sys\n",
    "\n",
    "## Define names of images\n",
    "left_img_name = \"left_img\"\n",
    "right_img_name = \"right_img\"\n",
    "\n",
    "## Read images\n",
    "left_img = cv.imread(left_img_name)\n",
    "right_img = cv.imread(right_img_name)\n",
    "\n",
    "plt.figure(figsize=(16, 16))\n",
    "plt.subplot(1, 1, 1, title='Left Image')\n",
    "plt.imshow(cv.cvtColor(left_img, cv.COLOR_BGR2RGB))\n",
    "plt.subplot(1, 1, 2, title='Right Image')\n",
    "plt.imshow(cv.cvtColor(right_img, cv.COLOR_BGR2RGB))\n",
    "\n",
    "plt.show()\n",
    "\n",
    "# Convert to Grayscale for disparity calculations\n",
    "left_img_gray = cv.cvtColor(left_img, cv.COLOR_BGR2GRAY)\n",
    "right_img_gray = cv.cvtColor(right_img, cv.COLOR_BGR2GRAY)"
   ]
  },
  {
   "cell_type": "markdown",
   "metadata": {
    "colab_type": "text",
    "id": "42A4P4ZxvNzU"
   },
   "source": [
    "## Mask Creation Function"
   ]
  },
  {
   "cell_type": "code",
   "execution_count": null,
   "metadata": {
    "colab": {},
    "colab_type": "code",
    "id": "nOZ26ZwvvNzW"
   },
   "outputs": [],
   "source": [
    "def createMask(dmap, fRange):    \n",
    "    x, y = fRange\n",
    "    \n",
    "    if x >= 255:\n",
    "        print('X value must be less than 255, It should be at most the maximum value in the Disparity Range.')\n",
    "        return\n",
    "    \n",
    "    temp = np.copy(dmap)\n",
    "    temp[(temp < x) | (temp > y)] = 255\n",
    "    temp[(temp >= x) & (temp <= y)] = 0\n",
    "    \n",
    "    return temp"
   ]
  },
  {
   "cell_type": "markdown",
   "metadata": {
    "colab_type": "text",
    "id": "JnkkrlQ-vNzF"
   },
   "source": [
    "## Stereo Block Matching (Plane Sweeping)\n",
    "### Sum of Squared Differences"
   ]
  },
  {
   "cell_type": "code",
   "execution_count": null,
   "metadata": {
    "colab": {},
    "colab_type": "code",
    "id": "2ZefBua2mVBC"
   },
   "outputs": [],
   "source": [
    "def stereoBM_ssd(im_l, im_r, b_size, disparityRange):\n",
    "    \"\"\" Find disparity image using Sum of Squared Differences. \"\"\"\n",
    "    \n",
    "    print('Starting Block Matching SSD')\n",
    "    \n",
    "    m, n = im_r.shape\n",
    "\n",
    "    # Array to hold depth planes\n",
    "    dmaps = np.zeros((m, n))\n",
    "    \n",
    "    # Block matching with nested for-loops\n",
    "    for r in range(m):\n",
    "        minr = max(0, r-b_size)\n",
    "        maxr = min(m-1, r+b_size)\n",
    "        for c in range(n):\n",
    "            minc = max(0, c-b_size)\n",
    "            maxc = min(n-1, c+b_size)\n",
    "            \n",
    "            # Calculate Disparity Range\n",
    "            mind = disparityRange[0]\n",
    "            maxd = min(disparityRange[1], n-maxc)\n",
    "            \n",
    "            # Construct template from the right image\n",
    "            template = im_r[minr:maxr, minc:maxc]\n",
    "\n",
    "            # Search template in the left image - Calculate SSD\n",
    "            numBlocks = maxd - mind\n",
    "            scores = cv.matchTemplate(im_l[minr:maxr, minc+mind:minc+maxd], template, method=cv.TM_SQDIFF_NORMED)\n",
    "            \n",
    "            # Find the index of the best matched region\n",
    "            # It is the disparity\n",
    "            matched_idx = np.argmin(scores)\n",
    "            dmaps[r, c] = matched_idx + mind\n",
    "        \n",
    "        sys.stdout.write('Row %d/%d \\r' % (r+1, m))\n",
    "        sys.stdout.flush()\n",
    "        \n",
    "    return dmaps"
   ]
  },
  {
   "cell_type": "markdown",
   "metadata": {
    "colab_type": "text",
    "id": "0bHUyxMOvNzO"
   },
   "source": [
    "### Normalised Cross Correlation"
   ]
  },
  {
   "cell_type": "code",
   "execution_count": null,
   "metadata": {
    "colab": {},
    "colab_type": "code",
    "id": "o9z_geFOvNzP"
   },
   "outputs": [],
   "source": [
    "def stereoBM_ncc(im_l, im_r, b_size, disparityRange):\n",
    "    \"\"\" Find disparity image using Normalised Cross Correlation. \"\"\"\n",
    "    \n",
    "    print('Starting Block Matching NCC')\n",
    "    \n",
    "    m, n = im_r.shape\n",
    "\n",
    "    # Array to hold depth planes\n",
    "    dmaps = np.zeros((m, n))\n",
    "    \n",
    "    # Block matching with nested for-loops\n",
    "    for r in range(m):\n",
    "        minr = max(0, r-b_size)\n",
    "        maxr = min(m-1, r+b_size)\n",
    "        for c in range(n):\n",
    "            minc = max(0, c-b_size)\n",
    "            maxc = min(n-1, c+b_size)\n",
    "            \n",
    "            # Calculate Disparity Range\n",
    "            mind = disparityRange[0]\n",
    "            maxd = min(disparityRange[1], n-maxc)\n",
    "            \n",
    "            # Construct template from the right image\n",
    "            template = im_r[minr:maxr, minc:maxc]\n",
    "\n",
    "            # Search template in the left image - Calculate NCC\n",
    "            numBlocks = maxd - mind\n",
    "            scores = cv.matchTemplate(im_l[minr:maxr, minc+mind:minc+maxd], template, method=cv.TM_CCORR_NORMED)\n",
    "                \n",
    "            # Find the index of the best matched region\n",
    "            # It is the disparity\n",
    "            matched_idx = np.argmax(scores)\n",
    "            dmaps[r, c] = matched_idx + mind\n",
    "        \n",
    "        sys.stdout.write('Row %d/%d \\r' % (r+1, m))\n",
    "        sys.stdout.flush()\n",
    "        \n",
    "    return dmaps"
   ]
  },
  {
   "cell_type": "markdown",
   "metadata": {
    "colab_type": "text",
    "id": "QnM-_bAuvNza"
   },
   "source": [
    "## Demonstration of Block Matching (Plane Sweeping)"
   ]
  },
  {
   "cell_type": "code",
   "execution_count": null,
   "metadata": {
    "colab": {
     "base_uri": "https://localhost:8080/",
     "height": 35
    },
    "colab_type": "code",
    "id": "RFsZBFZoPqTx",
    "outputId": "c7e6b0eb-7279-4fab-e9c4-7661ceb912eb"
   },
   "outputs": [],
   "source": [
    "dmap_ssd = stereoBM_ssd(left_img_gray, right_img_gray, 4, [0, 64])"
   ]
  },
  {
   "cell_type": "code",
   "execution_count": null,
   "metadata": {
    "colab": {
     "base_uri": "https://localhost:8080/",
     "height": 401
    },
    "colab_type": "code",
    "id": "3Hsh27gevNzj",
    "outputId": "8c11b2aa-71a6-4082-8cf7-90d5954fd77c"
   },
   "outputs": [],
   "source": [
    "plt.figure(figsize = (16, 16))\n",
    "plt.subplot(1, 2, 1, title='Depth Map Block Size of 8 with SSD (Jet)')\n",
    "plt.imshow(dmap_ssd, cmap='jet')\n",
    "plt.subplot(1, 2, 2, title='Ground Truth - Right')\n",
    "plt.imshow(right_ground_truth)\n",
    "plt.show()"
   ]
  },
  {
   "cell_type": "code",
   "execution_count": null,
   "metadata": {
    "colab": {},
    "colab_type": "code",
    "id": "Kn2ejL3GvNzp"
   },
   "outputs": [],
   "source": [
    "def masking(x, y):\n",
    "    dmap_ssd_mask = createMask(dmap_ssd, (x, y))\n",
    "    \n",
    "    smooth_img = np.copy(right_img)\n",
    "    temp = smooth_img[dmap_ssd_mask == 0]\n",
    "    smooth_img = cv.GaussianBlur(smooth_img, (7, 7), 3)\n",
    "    smooth_img[dmap_ssd_mask == 0] = temp\n",
    "    \n",
    "    plt.figure(figsize = (20, 20))\n",
    "    plt.subplot(1, 2, 1, title='Mask')\n",
    "    plt.imshow(dmap_ssd_mask, cmap='gray')\n",
    "    plt.subplot(1, 2, 2, title='Blurred Image')\n",
    "    plt.imshow(smooth_img)\n",
    "    plt.show()\n",
    "    \n",
    "ipywidgets.interact(masking, x=(0, np.max(dmap_ssd), 1), y=(0, np.max(dmap_ssd), 1))"
   ]
  },
  {
   "cell_type": "code",
   "execution_count": null,
   "metadata": {
    "colab": {},
    "colab_type": "code",
    "id": "WKgaHw1LvNzv"
   },
   "outputs": [],
   "source": [
    "dmap_ncc = stereoBM_ncc(left_img_gray, right_img_gray, 4, [0, 64])"
   ]
  },
  {
   "cell_type": "code",
   "execution_count": null,
   "metadata": {
    "colab": {},
    "colab_type": "code",
    "id": "NVA7NGdfvNz1"
   },
   "outputs": [],
   "source": [
    "plt.figure(figsize = (16, 16))\n",
    "plt.subplot(1, 2, 1, title='Depth Map Block Size of 8 with NCC (Jet)')\n",
    "plt.imshow(dmap_ncc, cmap='jet')\n",
    "plt.subplot(1, 2, 2, title='Ground Truth - Left')\n",
    "plt.imshow(left_ground_truth)\n",
    "plt.show()"
   ]
  },
  {
   "cell_type": "code",
   "execution_count": null,
   "metadata": {
    "colab": {},
    "colab_type": "code",
    "id": "c0RGCZ4-vNz4"
   },
   "outputs": [],
   "source": [
    "def masking(x, y):\n",
    "    dmap_ncc_mask = createMask(dmap_ncc, (x, y))\n",
    "    \n",
    "    smooth_img = np.copy(right_img)\n",
    "    temp = smooth_img[dmap_ncc_mask == 0]\n",
    "    smooth_img = cv.GaussianBlur(smooth_img, (7, 7), 3)\n",
    "    smooth_img[dmap_ncc_mask == 0] = temp\n",
    "    \n",
    "    plt.figure(figsize = (20, 20))\n",
    "    plt.subplot(1, 2, 1, title='Mask')\n",
    "    plt.imshow(dmap_ncc_mask, cmap='gray')\n",
    "    plt.subplot(1, 2, 2, title='Blurred Image')\n",
    "    plt.imshow(smooth_img)\n",
    "    plt.show()\n",
    "    \n",
    "ipywidgets.interact(masking, x=(0, np.max(dmap_ncc), 1), y=(0, np.max(dmap_ncc), 1))"
   ]
  },
  {
   "cell_type": "markdown",
   "metadata": {
    "colab_type": "text",
    "id": "0WQ5lyiPvNz9"
   },
   "source": [
    "## Dynamic Programming (Unconstrained)"
   ]
  },
  {
   "cell_type": "code",
   "execution_count": null,
   "metadata": {
    "colab": {},
    "colab_type": "code",
    "id": "w69hpafCvNz_"
   },
   "outputs": [],
   "source": [
    "def stereoDP(im_l, im_r):\n",
    "    \"\"\" Find disparity image using Dynamic Programming. \"\"\"\n",
    "    \n",
    "    print('Starting Dynamic Programming')\n",
    "    \n",
    "    m, n = im_r.shape\n",
    "    dmap_l = np.zeros((m, n))\n",
    "    dmap_r = np.zeros((m, n))\n",
    "    \n",
    "    occlusionCost = 20\n",
    "    \n",
    "    # Build Disparity Space Image\n",
    "    for r in range(m):\n",
    "        \n",
    "        dsi = np.zeros((n, n))\n",
    "        dpath = np.zeros((n, n))\n",
    "        \n",
    "        for i in range(0, n):\n",
    "            dsi[i][0] = i*occlusionCost\n",
    "            dsi[0][i] = i*occlusionCost\n",
    "        \n",
    "        for c in range(n):\n",
    "            left = im_l[r, c]\n",
    "            for d in range(0, n):\n",
    "                right = im_r[r, d]\n",
    "                cost = np.abs(int(left)-int(right))\n",
    "                \n",
    "                # Find path\n",
    "                min1 = dsi[c-1, d-1]+cost\n",
    "                min2 = dsi[c-1][d]+occlusionCost\n",
    "                min3 = dsi[c][d-1]+occlusionCost\n",
    "                cmin = np.min((min1, min2, min3))\n",
    "                dsi[c, d] = cmin\n",
    "                \n",
    "                if min1 == cmin:\n",
    "                    dpath[c, d] = 1\n",
    "                elif min2 == cmin:\n",
    "                    dpath[c, d] = 2\n",
    "                elif min3 == cmin:\n",
    "                    dpath[c, d] = 3\n",
    "        \n",
    "        # Explore Path and Set disparity value\n",
    "        i = n-1\n",
    "        j = n-1\n",
    "        while i!=0 and j!=0:\n",
    "            if dpath[i, j] == 1:\n",
    "                dmap_l[r, i] = np.abs(i-j)\n",
    "                dmap_r[r, j] = np.abs(i-j)                \n",
    "                i = i-1\n",
    "                j = j-1\n",
    "            elif dpath[i, j] == 2:\n",
    "                i = i-1\n",
    "            elif dpath[i, j] == 3:\n",
    "                j = j-1\n",
    "            else:\n",
    "                print('i =', i, ', j =', j)\n",
    "                return dsi, dpath\n",
    "        \n",
    "        sys.stdout.write('Row %d/%d \\r' % (r+1, m))\n",
    "        sys.stdout.flush()\n",
    "        \n",
    "    return dmap_l, dmap_r"
   ]
  },
  {
   "cell_type": "markdown",
   "metadata": {
    "colab_type": "text",
    "id": "5t6eGxATvN0G"
   },
   "source": [
    "## Dynamic Programming Demonstration"
   ]
  },
  {
   "cell_type": "code",
   "execution_count": null,
   "metadata": {
    "colab": {},
    "colab_type": "code",
    "id": "v-EwQYlkvN0H"
   },
   "outputs": [],
   "source": [
    "dmap_dp = stereoDP(left_img_gray, right_img_gray)"
   ]
  },
  {
   "cell_type": "code",
   "execution_count": null,
   "metadata": {
    "colab": {},
    "colab_type": "code",
    "id": "NZMjwlC7vN0L"
   },
   "outputs": [],
   "source": [
    "plt.figure(figsize = (16, 16))\n",
    "plt.subplot(1, 2, 1, title='Left Depth Map DSI with Dynamic Programming (Jet)')\n",
    "plt.imshow(dmap_dp[0], cmap='jet')\n",
    "plt.subplot(1, 2, 2, title='Ground Truth - Left')\n",
    "plt.imshow(left_ground_truth)\n",
    "plt.show()"
   ]
  },
  {
   "cell_type": "code",
   "execution_count": null,
   "metadata": {
    "colab": {},
    "colab_type": "code",
    "id": "5pGNEgmhvN0P"
   },
   "outputs": [],
   "source": [
    "def masking(x, y):\n",
    "    dmap_dp_mask = createMask(dmap_dp[0], (x, y))\n",
    "    \n",
    "    smooth_img = np.copy(left_img)\n",
    "    temp = smooth_img[dmap_dp_mask == 0]\n",
    "    smooth_img = cv.GaussianBlur(smooth_img, (7, 7), 3)\n",
    "    smooth_img[dmap_dp_mask == 0] = temp\n",
    "    \n",
    "    plt.figure(figsize = (20, 20))\n",
    "    plt.subplot(1, 2, 1, title='Mask')\n",
    "    plt.imshow(dmap_dp_mask, cmap='gray')\n",
    "    plt.subplot(1, 2, 2, title='Blurred Image')\n",
    "    plt.imshow(smooth_img)\n",
    "    plt.show()\n",
    "    \n",
    "ipywidgets.interact(masking, x=(0, np.max(dmap_dp[0]), 1), y=(0, np.max(dmap_dp[0]), 1))"
   ]
  },
  {
   "cell_type": "code",
   "execution_count": null,
   "metadata": {
    "colab": {},
    "colab_type": "code",
    "id": "gaOB41B_vN0U"
   },
   "outputs": [],
   "source": [
    "plt.figure(figsize = (16, 16))\n",
    "plt.subplot(1, 2, 1, title='Right Depth Map DSI with Dynamic Programming (Jet)')\n",
    "plt.imshow(dmap_dp[1], cmap='jet')\n",
    "plt.subplot(1, 2, 2, title='Ground Truth - Right')\n",
    "plt.imshow(right_ground_truth)\n",
    "plt.show()"
   ]
  },
  {
   "cell_type": "code",
   "execution_count": null,
   "metadata": {
    "colab": {},
    "colab_type": "code",
    "id": "sRYPheLfvN0a"
   },
   "outputs": [],
   "source": [
    "def masking(x, y):\n",
    "    dmap_dp_mask = createMask(dmap_dp[1], (x, y))\n",
    "    \n",
    "    smooth_img = np.copy(right_img)\n",
    "    temp = smooth_img[dmap_dp_mask == 0]\n",
    "    smooth_img = cv.GaussianBlur(smooth_img, (7, 7), 3)\n",
    "    smooth_img[dmap_dp_mask == 0] = temp\n",
    "    \n",
    "    plt.figure(figsize = (20, 20))\n",
    "    plt.subplot(1, 2, 1, title='Mask')\n",
    "    plt.imshow(dmap_dp_mask, cmap='gray')\n",
    "    plt.subplot(1, 2, 2, title='Blurred Image')\n",
    "    plt.imshow(smooth_img)\n",
    "    plt.show()\n",
    "    \n",
    "ipywidgets.interact(masking, x=(0, np.max(dmap_dp[1]), 1), y=(0, np.max(dmap_dp[1]), 1))"
   ]
  }
 ],
 "metadata": {
  "colab": {
   "collapsed_sections": [],
   "name": "stereo-matching.ipynb",
   "provenance": [],
   "version": "0.3.2"
  },
  "kernelspec": {
   "display_name": "Python 3",
   "language": "python",
   "name": "python3"
  },
  "language_info": {
   "codemirror_mode": {
    "name": "ipython",
    "version": 3
   },
   "file_extension": ".py",
   "mimetype": "text/x-python",
   "name": "python",
   "nbconvert_exporter": "python",
   "pygments_lexer": "ipython3",
   "version": "3.7.1"
  }
 },
 "nbformat": 4,
 "nbformat_minor": 1
}
